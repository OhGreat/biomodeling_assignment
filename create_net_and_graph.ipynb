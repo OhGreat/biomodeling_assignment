{
 "cells": [
  {
   "cell_type": "code",
   "execution_count": 42,
   "metadata": {},
   "outputs": [],
   "source": [
    "import snakes.plugins\n",
    "snakes.plugins.load('gv', 'snakes.nets', 'nets')\n",
    "from nets import *"
   ]
  },
  {
   "cell_type": "code",
   "execution_count": 43,
   "metadata": {},
   "outputs": [
    {
     "name": "stdout",
     "output_type": "stream",
     "text": [
      "[Substitution(x=0), Substitution(x=0), Substitution(x=0), Substitution(x=0), Substitution(x=0)]\n"
     ]
    }
   ],
   "source": [
    "net = PetriNet('test petri net')\n",
    "net.add_place(Place('p', [0]*10))\n",
    "net.add_transition(Transition('t', Expression('x<5')))\n",
    "net.add_input('p','t', Variable('x'))\n",
    "net.add_output('p', 't', Expression('x+1'))\n",
    "\n",
    "print(net.transition('t').modes())"
   ]
  },
  {
   "cell_type": "code",
   "execution_count": 44,
   "metadata": {},
   "outputs": [
    {
     "name": "stdout",
     "output_type": "stream",
     "text": [
      "0\n",
      "1\n",
      "2\n",
      "3\n",
      "4\n",
      "5\n"
     ]
    },
    {
     "ename": "ValueError",
     "evalue": "transition not enabled for {x -> 0}",
     "output_type": "error",
     "traceback": [
      "\u001b[0;31m---------------------------------------------------------------------------\u001b[0m",
      "\u001b[0;31mValueError\u001b[0m                                Traceback (most recent call last)",
      "\u001b[1;32m/home/dimi/Workdir/biomodeling_assignment/create_net_and_graph.ipynb Cell 3'\u001b[0m in \u001b[0;36m<cell line: 1>\u001b[0;34m()\u001b[0m\n\u001b[1;32m      <a href='vscode-notebook-cell://ssh-remote%2Bdimi-server/home/dimi/Workdir/biomodeling_assignment/create_net_and_graph.ipynb#ch0000002vscode-remote?line=0'>1</a>\u001b[0m \u001b[39mfor\u001b[39;00m i \u001b[39min\u001b[39;00m \u001b[39mrange\u001b[39m(\u001b[39m8\u001b[39m):\n\u001b[1;32m      <a href='vscode-notebook-cell://ssh-remote%2Bdimi-server/home/dimi/Workdir/biomodeling_assignment/create_net_and_graph.ipynb#ch0000002vscode-remote?line=1'>2</a>\u001b[0m     \u001b[39mprint\u001b[39m(i)\n\u001b[0;32m----> <a href='vscode-notebook-cell://ssh-remote%2Bdimi-server/home/dimi/Workdir/biomodeling_assignment/create_net_and_graph.ipynb#ch0000002vscode-remote?line=2'>3</a>\u001b[0m     net\u001b[39m.\u001b[39;49mtransition(\u001b[39m'\u001b[39;49m\u001b[39mt\u001b[39;49m\u001b[39m'\u001b[39;49m)\u001b[39m.\u001b[39;49mfire(Substitution(x\u001b[39m=\u001b[39;49m\u001b[39m0\u001b[39;49m))\n",
      "File \u001b[0;32m~/miniconda3/envs/pytorch/lib/python3.9/site-packages/snakes/nets.py:2686\u001b[0m, in \u001b[0;36mTransition.fire\u001b[0;34m(self, binding)\u001b[0m\n\u001b[1;32m   <a href='file:///home/dimi/miniconda3/envs/pytorch/lib/python3.9/site-packages/snakes/nets.py?line=2683'>2684</a>\u001b[0m         place\u001b[39m.\u001b[39madd(label\u001b[39m.\u001b[39mflow(binding))\n\u001b[1;32m   <a href='file:///home/dimi/miniconda3/envs/pytorch/lib/python3.9/site-packages/snakes/nets.py?line=2684'>2685</a>\u001b[0m \u001b[39melse\u001b[39;00m :\n\u001b[0;32m-> <a href='file:///home/dimi/miniconda3/envs/pytorch/lib/python3.9/site-packages/snakes/nets.py?line=2685'>2686</a>\u001b[0m     \u001b[39mraise\u001b[39;00m \u001b[39mValueError\u001b[39;00m(\u001b[39m\"\u001b[39m\u001b[39mtransition not enabled for \u001b[39m\u001b[39m%s\u001b[39;00m\u001b[39m\"\u001b[39m \u001b[39m%\u001b[39m binding)\n",
      "\u001b[0;31mValueError\u001b[0m: transition not enabled for {x -> 0}"
     ]
    }
   ],
   "source": [
    "for i in range(8):\n",
    "    print(i)\n",
    "    net.transition('t').fire(Substitution(x=0))"
   ]
  },
  {
   "cell_type": "code",
   "execution_count": 45,
   "metadata": {},
   "outputs": [
    {
     "data": {
      "text/plain": [
       "Graph(['node_1', 'node_0'], [])"
      ]
     },
     "execution_count": 45,
     "metadata": {},
     "output_type": "execute_result"
    }
   ],
   "source": [
    "net.draw(filename='test.png')"
   ]
  },
  {
   "cell_type": "code",
   "execution_count": null,
   "metadata": {},
   "outputs": [],
   "source": []
  }
 ],
 "metadata": {
  "interpreter": {
   "hash": "3e3d537f7c047eb69d35d93db02503d7f99d5e4e21342e5ae19b3dd47808d68e"
  },
  "kernelspec": {
   "display_name": "Python 3.9.12 ('pytorch')",
   "language": "python",
   "name": "python3"
  },
  "language_info": {
   "codemirror_mode": {
    "name": "ipython",
    "version": 3
   },
   "file_extension": ".py",
   "mimetype": "text/x-python",
   "name": "python",
   "nbconvert_exporter": "python",
   "pygments_lexer": "ipython3",
   "version": "3.9.12"
  },
  "orig_nbformat": 4
 },
 "nbformat": 4,
 "nbformat_minor": 2
}

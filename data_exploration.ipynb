{
 "cells": [
  {
   "cell_type": "code",
   "execution_count": 1,
   "metadata": {},
   "outputs": [],
   "source": [
    "import pandas as pd\n",
    "import numpy as np\n",
    "import matplotlib.pyplot as plt"
   ]
  },
  {
   "cell_type": "code",
   "execution_count": 2,
   "metadata": {},
   "outputs": [
    {
     "name": "stdout",
     "output_type": "stream",
     "text": [
      "                ID         TIME          DV         EVID          MDV  \\\n",
      "count  1128.000000  1128.000000  708.000000  1128.000000  1128.000000   \n",
      "mean    252.393617    73.038298    3.534583     1.069149     0.606383   \n",
      "std      45.830183    67.455651    6.567813     0.928981     0.488768   \n",
      "min     195.000000     0.000000   -0.000911     0.000000     0.000000   \n",
      "25%     218.000000    50.000000    0.000000     0.000000     0.000000   \n",
      "50%     241.500000    59.900000    0.007690     1.000000     1.000000   \n",
      "75%     274.000000    60.000000    3.330000     2.000000     1.000000   \n",
      "max     374.000000   300.000000   39.700000     2.000000     1.000000   \n",
      "\n",
      "               CMT         XEXP          BQL        XEXP2     AGE        BLOOD  \n",
      "count  1128.000000  1128.000000  1128.000000  1128.000000  1128.0  1128.000000  \n",
      "mean      1.577128    25.521277     0.120567     0.702128     5.0     0.085106  \n",
      "std       4.090512     4.544787     0.418731     0.457526     0.0     0.279164  \n",
      "min      -7.000000    15.200000     0.000000     0.000000     5.0     0.000000  \n",
      "25%       1.000000    24.000000     0.000000     0.000000     5.0     0.000000  \n",
      "50%       2.000000    27.000000     0.000000     1.000000     5.0     0.000000  \n",
      "75%       5.000000    27.000000     0.000000     1.000000     5.0     0.000000  \n",
      "max       7.000000    33.000000     3.000000     1.000000     5.0     1.000000  \n"
     ]
    },
    {
     "data": {
      "text/html": [
       "<div>\n",
       "<style scoped>\n",
       "    .dataframe tbody tr th:only-of-type {\n",
       "        vertical-align: middle;\n",
       "    }\n",
       "\n",
       "    .dataframe tbody tr th {\n",
       "        vertical-align: top;\n",
       "    }\n",
       "\n",
       "    .dataframe thead th {\n",
       "        text-align: right;\n",
       "    }\n",
       "</style>\n",
       "<table border=\"1\" class=\"dataframe\">\n",
       "  <thead>\n",
       "    <tr style=\"text-align: right;\">\n",
       "      <th></th>\n",
       "      <th>ID</th>\n",
       "      <th>TIME</th>\n",
       "      <th>AMT</th>\n",
       "      <th>DV</th>\n",
       "      <th>EVID</th>\n",
       "      <th>MDV</th>\n",
       "      <th>CMT</th>\n",
       "      <th>XEXP</th>\n",
       "      <th>BQL</th>\n",
       "      <th>XEXP2</th>\n",
       "      <th>AGE</th>\n",
       "      <th>BLOOD</th>\n",
       "    </tr>\n",
       "  </thead>\n",
       "  <tbody>\n",
       "    <tr>\n",
       "      <th>0</th>\n",
       "      <td>195</td>\n",
       "      <td>0.0</td>\n",
       "      <td>1</td>\n",
       "      <td>NaN</td>\n",
       "      <td>1</td>\n",
       "      <td>1</td>\n",
       "      <td>1</td>\n",
       "      <td>24.0</td>\n",
       "      <td>0</td>\n",
       "      <td>1</td>\n",
       "      <td>5</td>\n",
       "      <td>0</td>\n",
       "    </tr>\n",
       "    <tr>\n",
       "      <th>1</th>\n",
       "      <td>195</td>\n",
       "      <td>59.9</td>\n",
       "      <td>.</td>\n",
       "      <td>NaN</td>\n",
       "      <td>2</td>\n",
       "      <td>1</td>\n",
       "      <td>-1</td>\n",
       "      <td>24.0</td>\n",
       "      <td>0</td>\n",
       "      <td>1</td>\n",
       "      <td>5</td>\n",
       "      <td>0</td>\n",
       "    </tr>\n",
       "    <tr>\n",
       "      <th>2</th>\n",
       "      <td>195</td>\n",
       "      <td>59.9</td>\n",
       "      <td>.</td>\n",
       "      <td>0.0</td>\n",
       "      <td>2</td>\n",
       "      <td>1</td>\n",
       "      <td>1</td>\n",
       "      <td>24.0</td>\n",
       "      <td>0</td>\n",
       "      <td>1</td>\n",
       "      <td>5</td>\n",
       "      <td>0</td>\n",
       "    </tr>\n",
       "  </tbody>\n",
       "</table>\n",
       "</div>"
      ],
      "text/plain": [
       "    ID  TIME AMT   DV  EVID  MDV  CMT  XEXP  BQL  XEXP2  AGE  BLOOD\n",
       "0  195   0.0   1  NaN     1    1    1  24.0    0      1    5      0\n",
       "1  195  59.9   .  NaN     2    1   -1  24.0    0      1    5      0\n",
       "2  195  59.9   .  0.0     2    1    1  24.0    0      1    5      0"
      ]
     },
     "execution_count": 2,
     "metadata": {},
     "output_type": "execute_result"
    }
   ],
   "source": [
    "# read dataset\n",
    "df = pd.read_csv('data/dataset.csv')\n",
    "\n",
    "# DV preprocessing\n",
    "df['DV'] = df['DV'].replace(\".\", None)\n",
    "df['DV'] = df['DV'].astype(float)\n",
    "\n",
    "# print statistics and head\n",
    "print(df.describe())\n",
    "df.head(3)"
   ]
  },
  {
   "cell_type": "code",
   "execution_count": 28,
   "metadata": {},
   "outputs": [
    {
     "name": "stdout",
     "output_type": "stream",
     "text": [
      "(119, 2)\n"
     ]
    },
    {
     "data": {
      "image/png": "[encoded data removed]",
      "text/plain": [
       "<Figure size 720x504 with 1 Axes>"
      ]
     },
     "metadata": {
      "needs_background": "light"
     },
     "output_type": "display_data"
    }
   ],
   "source": [
    "#plotting of observed concentration (DV) \n",
    "# for central paracetamol in larvae (CMT==2)\n",
    "# for the observation events (EVID==0)\n",
    "\n",
    "temp_df = df[(df['CMT'] == 2) & \n",
    "            #(df['XEXP2'] == 0) &\n",
    "            (df['MDV'] == 0) & \n",
    "            (df['EVID'] == 0) &\n",
    "            (df['DV'] is not None )][['DV', 'TIME']]\n",
    "print(temp_df.shape)\n",
    "\n",
    "plt.figure(figsize=(10,7))\n",
    "plt.yscale(\"log\")\n",
    "plt.scatter(x=temp_df['TIME'],y=temp_df['DV'])\n",
    "plt.show()"
   ]
  },
  {
   "cell_type": "code",
   "execution_count": 26,
   "metadata": {},
   "outputs": [],
   "source": [
    "# Experiment 1\n",
    "p1 = np.load('results/exp1/p_val.npy')\n",
    "s1 = np.load('results/exp1/s_val.npy')\n",
    "g1 = np.load('results/exp1/g_val.npy')\n",
    "pe1 = np.load('results/exp1/pe_val.npy')\n",
    "se1 = np.load('results/exp1/se_val.npy')\n",
    "ge1 = np.load('results/exp1/ge_val.npy')\n",
    "# Expreriment 2\n",
    "p2 = np.load('results/exp2/p_val.npy')\n",
    "s2 = np.load('results/exp2/s_val.npy')\n",
    "g2 = np.load('results/exp2/g_val.npy')\n",
    "pe2 = np.load('results/exp2/pe_val.npy')\n",
    "se2 = np.load('results/exp2/se_val.npy')\n",
    "ge2 = np.load('results/exp2/ge_val.npy')"
   ]
  },
  {
   "cell_type": "code",
   "execution_count": 27,
   "metadata": {},
   "outputs": [
    {
     "data": {
      "text/plain": [
       "<matplotlib.collections.PathCollection at 0x7f16390ae400>"
      ]
     },
     "execution_count": 27,
     "metadata": {},
     "output_type": "execute_result"
    },
    {
     "data": {
      "image/png": "[encoded data removed]",
      "text/plain": [
       "<Figure size 1440x432 with 3 Axes>"
      ]
     },
     "metadata": {
      "needs_background": "light"
     },
     "output_type": "display_data"
    }
   ],
   "source": [
    "fig, axis = plt.subplots(1,3, figsize=(20,6))\n",
    "fig.tight_layout(pad=5.0)\n",
    "# fig.suptitle(title, fontsize=24, fontweight='bold')\n",
    "# Paracetamol\n",
    "axis[0].set_title(\"xerw gw\", size=22)\n",
    "axis[0].plot(p1, color='#0000ff', linewidth=4, linestyle='solid', label='Experiment 1')\n",
    "axis[0].plot(p2, '--', color='#6e96ff', linewidth=4, label='Experiment 2')\n",
    "axis[0].set_xlabel(\"X label\",  fontsize=18)\n",
    "axis[0].set_ylabel(\"Y label\",  fontsize=18)\n",
    "axis[0].set_yscale(\"log\", base=10)\n",
    "axis[0].set_xscale(\"linear\")\n",
    "axis[0].legend(prop={'size': 10})\n",
    "axis[0].scatter(x=temp_df['TIME'],y=temp_df['DV'])"
   ]
  },
  {
   "cell_type": "code",
   "execution_count": 22,
   "metadata": {},
   "outputs": [
    {
     "data": {
      "text/plain": [
       "array([  0. ,  59.9,  60. , 120. , 180. , 240. , 300. ,  10. ,  20. ,\n",
       "        30. ,  40. ,  50. ,  80. , 100. ,  15. , 125. ])"
      ]
     },
     "execution_count": 22,
     "metadata": {},
     "output_type": "execute_result"
    }
   ],
   "source": [
    "df['TIME'].unique()"
   ]
  },
  {
   "cell_type": "code",
   "execution_count": null,
   "metadata": {},
   "outputs": [],
   "source": []
  }
 ],
 "metadata": {
  "kernelspec": {
   "display_name": "Python 3.9.12 ('dl')",
   "language": "python",
   "name": "python3"
  },
  "language_info": {
   "codemirror_mode": {
    "name": "ipython",
    "version": 3
   },
   "file_extension": ".py",
   "mimetype": "text/x-python",
   "name": "python",
   "nbconvert_exporter": "python",
   "pygments_lexer": "ipython3",
   "version": "3.9.12"
  },
  "orig_nbformat": 4,
  "vscode": {
   "interpreter": {
    "hash": "add764fa81bab1b91908e7645fc161fd13d45f50d7fe5ae371ccec209f4ebf68"
   }
  }
 },
 "nbformat": 4,
 "nbformat_minor": 2
}
